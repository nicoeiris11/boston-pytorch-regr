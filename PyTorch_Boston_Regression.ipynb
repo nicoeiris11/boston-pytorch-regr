{
  "nbformat": 4,
  "nbformat_minor": 0,
  "metadata": {
    "kernelspec": {
      "display_name": "Python 3",
      "language": "python",
      "name": "python3"
    },
    "language_info": {
      "codemirror_mode": {
        "name": "ipython",
        "version": 3
      },
      "file_extension": ".py",
      "mimetype": "text/x-python",
      "name": "python",
      "nbconvert_exporter": "python",
      "pygments_lexer": "ipython3",
      "version": "3.7.6"
    },
    "colab": {
      "name": "PyTorch Boston Regression.ipynb",
      "provenance": [],
      "collapsed_sections": [],
      "include_colab_link": true
    }
  },
  "cells": [
    {
      "cell_type": "markdown",
      "metadata": {
        "id": "view-in-github",
        "colab_type": "text"
      },
      "source": [
        "<a href=\"https://colab.research.google.com/github/nicoeiris11/boston-pytorch-regr/blob/master/PyTorch_Boston_Regression.ipynb\" target=\"_parent\"><img src=\"https://colab.research.google.com/assets/colab-badge.svg\" alt=\"Open In Colab\"/></a>"
      ]
    },
    {
      "cell_type": "code",
      "metadata": {
        "id": "AaTpPV-gMii8",
        "colab_type": "code",
        "colab": {}
      },
      "source": [
        "import torch\n",
        "import torch.nn as nn\n",
        "import torch.nn.functional as F\n",
        "import random\n",
        "import numpy as np\n",
        "from sklearn.datasets import make_blobs\n",
        "from sklearn.model_selection import train_test_split\n",
        "from sklearn.preprocessing import MinMaxScaler\n",
        "import matplotlib.pyplot as plt\n",
        "from sklearn.datasets import load_boston\n",
        "import pandas as pd\n",
        "from torch.utils.data import DataLoader"
      ],
      "execution_count": 1,
      "outputs": []
    },
    {
      "cell_type": "code",
      "metadata": {
        "id": "TMEmaJ-uMijA",
        "colab_type": "code",
        "colab": {}
      },
      "source": [
        "random_seed = 43"
      ],
      "execution_count": 2,
      "outputs": []
    },
    {
      "cell_type": "code",
      "metadata": {
        "id": "exeUEh6oMijD",
        "colab_type": "code",
        "colab": {}
      },
      "source": [
        "np.random.seed(random_seed)\n",
        "random.seed(random_seed)"
      ],
      "execution_count": 3,
      "outputs": []
    },
    {
      "cell_type": "markdown",
      "metadata": {
        "id": "q0aNHKFaMijG",
        "colab_type": "text"
      },
      "source": [
        "## Cargar Dataset\n",
        "https://scikit-learn.org/stable/modules/generated/sklearn.datasets.load_boston.html"
      ]
    },
    {
      "cell_type": "code",
      "metadata": {
        "id": "EwAyRPu_MijH",
        "colab_type": "code",
        "colab": {
          "base_uri": "https://localhost:8080/",
          "height": 34
        },
        "outputId": "6ff5cbb2-295d-476a-a38d-480978d2e741"
      },
      "source": [
        "bos = load_boston()\n",
        "bos.keys()"
      ],
      "execution_count": 4,
      "outputs": [
        {
          "output_type": "execute_result",
          "data": {
            "text/plain": [
              "dict_keys(['data', 'target', 'feature_names', 'DESCR', 'filename'])"
            ]
          },
          "metadata": {
            "tags": []
          },
          "execution_count": 4
        }
      ]
    },
    {
      "cell_type": "code",
      "metadata": {
        "id": "kxoaX5dPMijK",
        "colab_type": "code",
        "colab": {
          "base_uri": "https://localhost:8080/",
          "height": 204
        },
        "outputId": "52d986b3-bf0e-41cf-a0f5-bcccab815d4b"
      },
      "source": [
        "df = pd.DataFrame(bos.data)\n",
        "df.columns = bos.feature_names\n",
        "df['Price'] = bos.target\n",
        "df = df.astype(float)\n",
        "df.head()"
      ],
      "execution_count": 5,
      "outputs": [
        {
          "output_type": "execute_result",
          "data": {
            "text/html": [
              "<div>\n",
              "<style scoped>\n",
              "    .dataframe tbody tr th:only-of-type {\n",
              "        vertical-align: middle;\n",
              "    }\n",
              "\n",
              "    .dataframe tbody tr th {\n",
              "        vertical-align: top;\n",
              "    }\n",
              "\n",
              "    .dataframe thead th {\n",
              "        text-align: right;\n",
              "    }\n",
              "</style>\n",
              "<table border=\"1\" class=\"dataframe\">\n",
              "  <thead>\n",
              "    <tr style=\"text-align: right;\">\n",
              "      <th></th>\n",
              "      <th>CRIM</th>\n",
              "      <th>ZN</th>\n",
              "      <th>INDUS</th>\n",
              "      <th>CHAS</th>\n",
              "      <th>NOX</th>\n",
              "      <th>RM</th>\n",
              "      <th>AGE</th>\n",
              "      <th>DIS</th>\n",
              "      <th>RAD</th>\n",
              "      <th>TAX</th>\n",
              "      <th>PTRATIO</th>\n",
              "      <th>B</th>\n",
              "      <th>LSTAT</th>\n",
              "      <th>Price</th>\n",
              "    </tr>\n",
              "  </thead>\n",
              "  <tbody>\n",
              "    <tr>\n",
              "      <th>0</th>\n",
              "      <td>0.00632</td>\n",
              "      <td>18.0</td>\n",
              "      <td>2.31</td>\n",
              "      <td>0.0</td>\n",
              "      <td>0.538</td>\n",
              "      <td>6.575</td>\n",
              "      <td>65.2</td>\n",
              "      <td>4.0900</td>\n",
              "      <td>1.0</td>\n",
              "      <td>296.0</td>\n",
              "      <td>15.3</td>\n",
              "      <td>396.90</td>\n",
              "      <td>4.98</td>\n",
              "      <td>24.0</td>\n",
              "    </tr>\n",
              "    <tr>\n",
              "      <th>1</th>\n",
              "      <td>0.02731</td>\n",
              "      <td>0.0</td>\n",
              "      <td>7.07</td>\n",
              "      <td>0.0</td>\n",
              "      <td>0.469</td>\n",
              "      <td>6.421</td>\n",
              "      <td>78.9</td>\n",
              "      <td>4.9671</td>\n",
              "      <td>2.0</td>\n",
              "      <td>242.0</td>\n",
              "      <td>17.8</td>\n",
              "      <td>396.90</td>\n",
              "      <td>9.14</td>\n",
              "      <td>21.6</td>\n",
              "    </tr>\n",
              "    <tr>\n",
              "      <th>2</th>\n",
              "      <td>0.02729</td>\n",
              "      <td>0.0</td>\n",
              "      <td>7.07</td>\n",
              "      <td>0.0</td>\n",
              "      <td>0.469</td>\n",
              "      <td>7.185</td>\n",
              "      <td>61.1</td>\n",
              "      <td>4.9671</td>\n",
              "      <td>2.0</td>\n",
              "      <td>242.0</td>\n",
              "      <td>17.8</td>\n",
              "      <td>392.83</td>\n",
              "      <td>4.03</td>\n",
              "      <td>34.7</td>\n",
              "    </tr>\n",
              "    <tr>\n",
              "      <th>3</th>\n",
              "      <td>0.03237</td>\n",
              "      <td>0.0</td>\n",
              "      <td>2.18</td>\n",
              "      <td>0.0</td>\n",
              "      <td>0.458</td>\n",
              "      <td>6.998</td>\n",
              "      <td>45.8</td>\n",
              "      <td>6.0622</td>\n",
              "      <td>3.0</td>\n",
              "      <td>222.0</td>\n",
              "      <td>18.7</td>\n",
              "      <td>394.63</td>\n",
              "      <td>2.94</td>\n",
              "      <td>33.4</td>\n",
              "    </tr>\n",
              "    <tr>\n",
              "      <th>4</th>\n",
              "      <td>0.06905</td>\n",
              "      <td>0.0</td>\n",
              "      <td>2.18</td>\n",
              "      <td>0.0</td>\n",
              "      <td>0.458</td>\n",
              "      <td>7.147</td>\n",
              "      <td>54.2</td>\n",
              "      <td>6.0622</td>\n",
              "      <td>3.0</td>\n",
              "      <td>222.0</td>\n",
              "      <td>18.7</td>\n",
              "      <td>396.90</td>\n",
              "      <td>5.33</td>\n",
              "      <td>36.2</td>\n",
              "    </tr>\n",
              "  </tbody>\n",
              "</table>\n",
              "</div>"
            ],
            "text/plain": [
              "      CRIM    ZN  INDUS  CHAS    NOX  ...    TAX  PTRATIO       B  LSTAT  Price\n",
              "0  0.00632  18.0   2.31   0.0  0.538  ...  296.0     15.3  396.90   4.98   24.0\n",
              "1  0.02731   0.0   7.07   0.0  0.469  ...  242.0     17.8  396.90   9.14   21.6\n",
              "2  0.02729   0.0   7.07   0.0  0.469  ...  242.0     17.8  392.83   4.03   34.7\n",
              "3  0.03237   0.0   2.18   0.0  0.458  ...  222.0     18.7  394.63   2.94   33.4\n",
              "4  0.06905   0.0   2.18   0.0  0.458  ...  222.0     18.7  396.90   5.33   36.2\n",
              "\n",
              "[5 rows x 14 columns]"
            ]
          },
          "metadata": {
            "tags": []
          },
          "execution_count": 5
        }
      ]
    },
    {
      "cell_type": "code",
      "metadata": {
        "id": "E9r8RObHMijM",
        "colab_type": "code",
        "colab": {
          "base_uri": "https://localhost:8080/",
          "height": 297
        },
        "outputId": "bdff9b92-f56f-4168-c1bf-8a94ec902038"
      },
      "source": [
        "df.describe()"
      ],
      "execution_count": 6,
      "outputs": [
        {
          "output_type": "execute_result",
          "data": {
            "text/html": [
              "<div>\n",
              "<style scoped>\n",
              "    .dataframe tbody tr th:only-of-type {\n",
              "        vertical-align: middle;\n",
              "    }\n",
              "\n",
              "    .dataframe tbody tr th {\n",
              "        vertical-align: top;\n",
              "    }\n",
              "\n",
              "    .dataframe thead th {\n",
              "        text-align: right;\n",
              "    }\n",
              "</style>\n",
              "<table border=\"1\" class=\"dataframe\">\n",
              "  <thead>\n",
              "    <tr style=\"text-align: right;\">\n",
              "      <th></th>\n",
              "      <th>CRIM</th>\n",
              "      <th>ZN</th>\n",
              "      <th>INDUS</th>\n",
              "      <th>CHAS</th>\n",
              "      <th>NOX</th>\n",
              "      <th>RM</th>\n",
              "      <th>AGE</th>\n",
              "      <th>DIS</th>\n",
              "      <th>RAD</th>\n",
              "      <th>TAX</th>\n",
              "      <th>PTRATIO</th>\n",
              "      <th>B</th>\n",
              "      <th>LSTAT</th>\n",
              "      <th>Price</th>\n",
              "    </tr>\n",
              "  </thead>\n",
              "  <tbody>\n",
              "    <tr>\n",
              "      <th>count</th>\n",
              "      <td>506.000000</td>\n",
              "      <td>506.000000</td>\n",
              "      <td>506.000000</td>\n",
              "      <td>506.000000</td>\n",
              "      <td>506.000000</td>\n",
              "      <td>506.000000</td>\n",
              "      <td>506.000000</td>\n",
              "      <td>506.000000</td>\n",
              "      <td>506.000000</td>\n",
              "      <td>506.000000</td>\n",
              "      <td>506.000000</td>\n",
              "      <td>506.000000</td>\n",
              "      <td>506.000000</td>\n",
              "      <td>506.000000</td>\n",
              "    </tr>\n",
              "    <tr>\n",
              "      <th>mean</th>\n",
              "      <td>3.613524</td>\n",
              "      <td>11.363636</td>\n",
              "      <td>11.136779</td>\n",
              "      <td>0.069170</td>\n",
              "      <td>0.554695</td>\n",
              "      <td>6.284634</td>\n",
              "      <td>68.574901</td>\n",
              "      <td>3.795043</td>\n",
              "      <td>9.549407</td>\n",
              "      <td>408.237154</td>\n",
              "      <td>18.455534</td>\n",
              "      <td>356.674032</td>\n",
              "      <td>12.653063</td>\n",
              "      <td>22.532806</td>\n",
              "    </tr>\n",
              "    <tr>\n",
              "      <th>std</th>\n",
              "      <td>8.601545</td>\n",
              "      <td>23.322453</td>\n",
              "      <td>6.860353</td>\n",
              "      <td>0.253994</td>\n",
              "      <td>0.115878</td>\n",
              "      <td>0.702617</td>\n",
              "      <td>28.148861</td>\n",
              "      <td>2.105710</td>\n",
              "      <td>8.707259</td>\n",
              "      <td>168.537116</td>\n",
              "      <td>2.164946</td>\n",
              "      <td>91.294864</td>\n",
              "      <td>7.141062</td>\n",
              "      <td>9.197104</td>\n",
              "    </tr>\n",
              "    <tr>\n",
              "      <th>min</th>\n",
              "      <td>0.006320</td>\n",
              "      <td>0.000000</td>\n",
              "      <td>0.460000</td>\n",
              "      <td>0.000000</td>\n",
              "      <td>0.385000</td>\n",
              "      <td>3.561000</td>\n",
              "      <td>2.900000</td>\n",
              "      <td>1.129600</td>\n",
              "      <td>1.000000</td>\n",
              "      <td>187.000000</td>\n",
              "      <td>12.600000</td>\n",
              "      <td>0.320000</td>\n",
              "      <td>1.730000</td>\n",
              "      <td>5.000000</td>\n",
              "    </tr>\n",
              "    <tr>\n",
              "      <th>25%</th>\n",
              "      <td>0.082045</td>\n",
              "      <td>0.000000</td>\n",
              "      <td>5.190000</td>\n",
              "      <td>0.000000</td>\n",
              "      <td>0.449000</td>\n",
              "      <td>5.885500</td>\n",
              "      <td>45.025000</td>\n",
              "      <td>2.100175</td>\n",
              "      <td>4.000000</td>\n",
              "      <td>279.000000</td>\n",
              "      <td>17.400000</td>\n",
              "      <td>375.377500</td>\n",
              "      <td>6.950000</td>\n",
              "      <td>17.025000</td>\n",
              "    </tr>\n",
              "    <tr>\n",
              "      <th>50%</th>\n",
              "      <td>0.256510</td>\n",
              "      <td>0.000000</td>\n",
              "      <td>9.690000</td>\n",
              "      <td>0.000000</td>\n",
              "      <td>0.538000</td>\n",
              "      <td>6.208500</td>\n",
              "      <td>77.500000</td>\n",
              "      <td>3.207450</td>\n",
              "      <td>5.000000</td>\n",
              "      <td>330.000000</td>\n",
              "      <td>19.050000</td>\n",
              "      <td>391.440000</td>\n",
              "      <td>11.360000</td>\n",
              "      <td>21.200000</td>\n",
              "    </tr>\n",
              "    <tr>\n",
              "      <th>75%</th>\n",
              "      <td>3.677083</td>\n",
              "      <td>12.500000</td>\n",
              "      <td>18.100000</td>\n",
              "      <td>0.000000</td>\n",
              "      <td>0.624000</td>\n",
              "      <td>6.623500</td>\n",
              "      <td>94.075000</td>\n",
              "      <td>5.188425</td>\n",
              "      <td>24.000000</td>\n",
              "      <td>666.000000</td>\n",
              "      <td>20.200000</td>\n",
              "      <td>396.225000</td>\n",
              "      <td>16.955000</td>\n",
              "      <td>25.000000</td>\n",
              "    </tr>\n",
              "    <tr>\n",
              "      <th>max</th>\n",
              "      <td>88.976200</td>\n",
              "      <td>100.000000</td>\n",
              "      <td>27.740000</td>\n",
              "      <td>1.000000</td>\n",
              "      <td>0.871000</td>\n",
              "      <td>8.780000</td>\n",
              "      <td>100.000000</td>\n",
              "      <td>12.126500</td>\n",
              "      <td>24.000000</td>\n",
              "      <td>711.000000</td>\n",
              "      <td>22.000000</td>\n",
              "      <td>396.900000</td>\n",
              "      <td>37.970000</td>\n",
              "      <td>50.000000</td>\n",
              "    </tr>\n",
              "  </tbody>\n",
              "</table>\n",
              "</div>"
            ],
            "text/plain": [
              "             CRIM          ZN       INDUS  ...           B       LSTAT       Price\n",
              "count  506.000000  506.000000  506.000000  ...  506.000000  506.000000  506.000000\n",
              "mean     3.613524   11.363636   11.136779  ...  356.674032   12.653063   22.532806\n",
              "std      8.601545   23.322453    6.860353  ...   91.294864    7.141062    9.197104\n",
              "min      0.006320    0.000000    0.460000  ...    0.320000    1.730000    5.000000\n",
              "25%      0.082045    0.000000    5.190000  ...  375.377500    6.950000   17.025000\n",
              "50%      0.256510    0.000000    9.690000  ...  391.440000   11.360000   21.200000\n",
              "75%      3.677083   12.500000   18.100000  ...  396.225000   16.955000   25.000000\n",
              "max     88.976200  100.000000   27.740000  ...  396.900000   37.970000   50.000000\n",
              "\n",
              "[8 rows x 14 columns]"
            ]
          },
          "metadata": {
            "tags": []
          },
          "execution_count": 6
        }
      ]
    },
    {
      "cell_type": "code",
      "metadata": {
        "id": "loTH5HjVMijP",
        "colab_type": "code",
        "colab": {}
      },
      "source": [
        "y = df['Price'].to_numpy()"
      ],
      "execution_count": 7,
      "outputs": []
    },
    {
      "cell_type": "code",
      "metadata": {
        "id": "RGozOvzUp039",
        "colab_type": "code",
        "colab": {}
      },
      "source": [
        "# MinMax Scaling of features\n",
        "scaler = MinMaxScaler()\n",
        "x = df.drop('Price', axis=1)\n",
        "x = scaler.fit_transform(x)"
      ],
      "execution_count": 8,
      "outputs": []
    },
    {
      "cell_type": "code",
      "metadata": {
        "id": "hJNd99NYTsNS",
        "colab_type": "code",
        "colab": {}
      },
      "source": [
        "x_train, x_test, y_train, y_test = train_test_split(x, y, test_size=0.2, random_state=random_seed)"
      ],
      "execution_count": 9,
      "outputs": []
    },
    {
      "cell_type": "code",
      "metadata": {
        "id": "yHtsqO4yUKkF",
        "colab_type": "code",
        "colab": {}
      },
      "source": [
        "x_train, x_val, y_train, y_val = train_test_split(x_train, y_train, test_size=0.2, random_state=random_seed)"
      ],
      "execution_count": 10,
      "outputs": []
    },
    {
      "cell_type": "code",
      "metadata": {
        "id": "l2nmQ7G8Uejv",
        "colab_type": "code",
        "colab": {}
      },
      "source": [
        "x_train = torch.FloatTensor(x_train)\n",
        "y_train = torch.FloatTensor(y_train)\n",
        "x_val = torch.FloatTensor(x_val)\n",
        "y_val = torch.FloatTensor(y_val)\n",
        "x_test = torch.FloatTensor(x_test)\n",
        "y_test = torch.FloatTensor(y_test)"
      ],
      "execution_count": 11,
      "outputs": []
    },
    {
      "cell_type": "code",
      "metadata": {
        "id": "cYGt8aTpacZI",
        "colab_type": "code",
        "colab": {}
      },
      "source": [
        "train_data = []\n",
        "for i in range(len(x_train)):\n",
        "  train_data.append([x_train[i].numpy(), y_train[i].numpy()])\n",
        "\n",
        "train_dataloader = DataLoader(train_data, batch_size=32, shuffle=True)"
      ],
      "execution_count": 12,
      "outputs": []
    },
    {
      "cell_type": "code",
      "metadata": {
        "id": "wuC85VVyawo-",
        "colab_type": "code",
        "colab": {
          "base_uri": "https://localhost:8080/",
          "height": 1000
        },
        "outputId": "b40d3e04-1ede-40c9-ae3b-591ff128b699"
      },
      "source": [
        "next(iter(train_dataloader))"
      ],
      "execution_count": 13,
      "outputs": [
        {
          "output_type": "execute_result",
          "data": {
            "text/plain": [
              "[tensor([[9.2132e-04, 1.2500e-01, 2.7163e-01, 0.0000e+00, 2.8601e-01, 4.6963e-01,\n",
              "          6.5602e-01, 4.0292e-01, 1.7391e-01, 2.3664e-01, 2.7660e-01, 9.9672e-01,\n",
              "          2.9525e-01],\n",
              "         [5.1208e-04, 0.0000e+00, 1.4773e-01, 0.0000e+00, 1.3169e-01, 4.7021e-01,\n",
              "          4.3460e-01, 2.9987e-01, 8.6957e-02, 1.1450e-01, 6.2766e-01, 9.9771e-01,\n",
              "          3.0712e-01],\n",
              "         [1.4929e-03, 0.0000e+00, 1.3160e-01, 0.0000e+00, 2.5720e-01, 3.8532e-01,\n",
              "          8.8157e-01, 1.3336e-01, 1.7391e-01, 2.0802e-01, 4.2553e-01, 1.0000e+00,\n",
              "          3.5762e-01],\n",
              "         [2.6447e-04, 0.0000e+00, 6.3050e-02, 0.0000e+00, 1.5021e-01, 5.4972e-01,\n",
              "          5.7467e-01, 4.4854e-01, 8.6957e-02, 6.6794e-02, 6.4894e-01, 9.9299e-01,\n",
              "          9.6026e-02],\n",
              "         [1.0538e-03, 0.0000e+00, 7.3314e-02, 0.0000e+00, 2.1193e-01, 5.7521e-01,\n",
              "          9.5469e-01, 1.5617e-01, 8.6957e-02, 1.1450e-02, 5.5319e-01, 1.0000e+00,\n",
              "          1.0900e-01],\n",
              "         [1.1731e-03, 0.0000e+00, 4.9230e-01, 1.0000e+00, 3.3951e-01, 4.5794e-01,\n",
              "          9.3615e-01, 1.6002e-01, 1.7391e-01, 1.6985e-01, 4.0426e-01, 1.0000e+00,\n",
              "          4.4674e-01],\n",
              "         [1.1775e-02, 0.0000e+00, 2.8152e-01, 0.0000e+00, 3.1481e-01, 4.5488e-01,\n",
              "          2.7188e-01, 3.0636e-01, 1.3043e-01, 2.2901e-01, 8.9362e-01, 9.7466e-01,\n",
              "          1.3383e-01],\n",
              "         [9.5212e-04, 0.0000e+00, 7.3314e-02, 0.0000e+00, 2.1193e-01, 6.8864e-01,\n",
              "          9.1967e-01, 1.4286e-01, 8.6957e-02, 1.1450e-02, 5.5319e-01, 9.9299e-01,\n",
              "          8.5265e-02],\n",
              "         [2.7166e-04, 5.5000e-01, 1.2170e-01, 0.0000e+00, 2.0370e-01, 6.3480e-01,\n",
              "          2.5953e-01, 4.8521e-01, 1.7391e-01, 3.4924e-01, 5.3191e-01, 9.7748e-01,\n",
              "          7.9470e-02],\n",
              "         [7.0507e-04, 0.0000e+00, 6.3050e-02, 0.0000e+00, 1.5021e-01, 6.8710e-01,\n",
              "          5.2832e-01, 4.4854e-01, 8.6957e-02, 6.6794e-02, 6.4894e-01, 1.0000e+00,\n",
              "          9.9338e-02],\n",
              "         [4.2115e-04, 8.0000e-01, 1.0667e-01, 0.0000e+00, 2.6749e-02, 4.2652e-01,\n",
              "          2.9042e-01, 4.9850e-01, 1.3043e-01, 2.8626e-01, 3.7234e-01, 1.0000e+00,\n",
              "          2.3482e-01],\n",
              "         [1.2871e-03, 0.0000e+00, 8.9076e-02, 0.0000e+00, 1.2346e-01, 8.6377e-01,\n",
              "          7.5283e-01, 2.1512e-01, 4.3478e-02, 1.6985e-01, 5.7447e-01, 1.0000e+00,\n",
              "          6.8433e-02],\n",
              "         [7.1786e-02, 0.0000e+00, 6.4663e-01, 0.0000e+00, 4.0947e-01, 4.9837e-01,\n",
              "          9.7322e-01, 9.7882e-02, 1.0000e+00, 9.1412e-01, 8.0851e-01, 7.6262e-01,\n",
              "          6.1727e-01],\n",
              "         [1.8127e-03, 0.0000e+00, 2.5367e-01, 0.0000e+00, 2.2222e-01, 5.4896e-01,\n",
              "          5.0875e-01, 3.1016e-01, 1.7391e-01, 1.9084e-01, 7.4468e-01, 1.0000e+00,\n",
              "          1.5094e-01],\n",
              "         [4.3199e-02, 0.0000e+00, 6.4663e-01, 1.0000e+00, 7.9218e-01, 5.4302e-01,\n",
              "          9.0731e-01, 1.2509e-01, 1.0000e+00, 9.1412e-01, 8.0851e-01, 9.8598e-01,\n",
              "          3.1843e-01],\n",
              "         [1.7819e-01, 0.0000e+00, 6.4663e-01, 0.0000e+00, 6.0494e-01, 4.4740e-01,\n",
              "          9.5263e-01, 7.0929e-02, 1.0000e+00, 9.1412e-01, 8.0851e-01, 1.8559e-02,\n",
              "          6.2528e-01],\n",
              "         [3.8757e-03, 0.0000e+00, 2.5367e-01, 0.0000e+00, 2.2222e-01, 4.7519e-01,\n",
              "          4.8404e-01, 3.2659e-01, 1.7391e-01, 1.9084e-01, 7.4468e-01, 1.0000e+00,\n",
              "          1.6474e-01],\n",
              "         [8.1533e-04, 8.0000e-01, 1.6459e-01, 0.0000e+00, 5.3498e-02, 6.8730e-01,\n",
              "          2.5541e-01, 3.6257e-01, 1.3043e-01, 1.1069e-01, 7.0213e-01, 1.0000e+00,\n",
              "          5.0497e-02],\n",
              "         [7.3272e-04, 0.0000e+00, 1.4773e-01, 0.0000e+00, 1.3169e-01, 4.9052e-01,\n",
              "          5.5510e-01, 2.3807e-01, 8.6957e-02, 1.1450e-01, 6.2766e-01, 9.9559e-01,\n",
              "          1.8515e-01],\n",
              "         [8.7062e-02, 0.0000e+00, 6.4663e-01, 0.0000e+00, 6.7490e-01, 5.2500e-01,\n",
              "          8.3213e-01, 1.5036e-01, 1.0000e+00, 9.1412e-01, 8.0851e-01, 6.8559e-01,\n",
              "          4.0011e-01],\n",
              "         [1.5537e-03, 1.2500e-01, 2.7163e-01, 0.0000e+00, 2.8601e-01, 5.0029e-01,\n",
              "          9.5984e-01, 4.3839e-01, 1.7391e-01, 2.3664e-01, 2.7660e-01, 1.0000e+00,\n",
              "          4.8068e-01],\n",
              "         [7.4729e-02, 0.0000e+00, 6.4663e-01, 0.0000e+00, 6.7490e-01, 5.2807e-01,\n",
              "          8.2492e-01, 1.4593e-01, 1.0000e+00, 9.1412e-01, 8.0851e-01, 1.0000e+00,\n",
              "          3.3830e-01],\n",
              "         [2.6664e-02, 0.0000e+00, 6.4663e-01, 0.0000e+00, 4.0741e-01, 4.4261e-01,\n",
              "          4.0165e-01, 2.3592e-01, 1.0000e+00, 9.1412e-01, 8.0851e-01, 9.3401e-01,\n",
              "          3.2036e-01],\n",
              "         [1.7767e-03, 2.2000e-01, 1.9795e-01, 0.0000e+00, 9.4650e-02, 5.5030e-01,\n",
              "          4.7580e-01, 6.0898e-01, 2.6087e-01, 2.7290e-01, 6.9149e-01, 9.4405e-01,\n",
              "          2.1496e-01],\n",
              "         [4.8331e-04, 3.3000e-01, 6.3050e-02, 0.0000e+00, 1.7901e-01, 6.3001e-01,\n",
              "          6.9413e-01, 1.8670e-01, 2.6087e-01, 6.6794e-02, 6.1702e-01, 1.0000e+00,\n",
              "          1.6004e-01],\n",
              "         [4.1160e-04, 2.8000e-01, 5.3446e-01, 0.0000e+00, 1.6255e-01, 5.1504e-01,\n",
              "          7.6622e-01, 2.2601e-01, 1.3043e-01, 1.5840e-01, 5.9574e-01, 1.0000e+00,\n",
              "          2.4448e-01],\n",
              "         [6.1116e-03, 2.0000e-01, 1.2867e-01, 0.0000e+00, 5.3909e-01, 6.9841e-01,\n",
              "          9.1349e-01, 7.2793e-02, 1.7391e-01, 1.4695e-01, 4.2553e-02, 9.7728e-01,\n",
              "          1.7577e-01],\n",
              "         [7.4811e-03, 0.0000e+00, 2.8152e-01, 0.0000e+00, 3.1481e-01, 4.3150e-01,\n",
              "          9.0010e-01, 3.2304e-01, 1.3043e-01, 2.2901e-01, 8.9362e-01, 9.4952e-01,\n",
              "          3.6093e-01],\n",
              "         [1.2881e-04, 9.5000e-01, 3.7023e-02, 0.0000e+00, 3.7037e-02, 6.8481e-01,\n",
              "          1.1329e-01, 5.9324e-01, 8.6957e-02, 4.1031e-01, 4.6809e-01, 9.6823e-01,\n",
              "          7.5055e-02],\n",
              "         [3.1202e-03, 0.0000e+00, 2.5367e-01, 0.0000e+00, 2.2222e-01, 4.1138e-01,\n",
              "          7.3532e-01, 3.2659e-01, 1.7391e-01, 1.9084e-01, 7.4468e-01, 9.8545e-01,\n",
              "          2.7621e-01],\n",
              "         [4.0787e-03, 0.0000e+00, 3.4604e-01, 0.0000e+00, 3.2716e-01, 5.7597e-01,\n",
              "          8.6921e-01, 2.2485e-01, 1.3043e-01, 2.2328e-01, 6.1702e-01, 9.9695e-01,\n",
              "          2.0833e-01],\n",
              "         [1.0855e-03, 3.0000e-01, 1.6386e-01, 0.0000e+00, 8.8477e-02, 5.3593e-01,\n",
              "          5.1493e-01, 5.3705e-01, 2.1739e-01, 2.1565e-01, 4.2553e-01, 9.3910e-01,\n",
              "          2.6187e-01]]),\n",
              " tensor([22.9000, 22.5000, 23.1000, 28.7000, 32.5000, 21.5000, 23.1000, 37.9000,\n",
              "         31.2000, 36.2000, 19.4000, 38.7000, 13.3000, 23.8000, 21.7000,  8.3000,\n",
              "         20.4000, 37.3000, 22.2000, 14.9000, 27.1000, 19.5000, 20.6000, 24.5000,\n",
              "         28.2000, 20.6000, 36.5000, 16.6000, 32.9000, 18.5000, 23.8000, 22.2000])]"
            ]
          },
          "metadata": {
            "tags": []
          },
          "execution_count": 13
        }
      ]
    },
    {
      "cell_type": "markdown",
      "metadata": {
        "id": "BphM-0yyMijT",
        "colab_type": "text"
      },
      "source": [
        "## Definición del Modelo\n",
        "\n",
        "En esta sección:\n",
        "- Definiremos una clase que defina la arquitectura de nuestra red.\n",
        "- En el constructor crearemos las distintas capas\n",
        "- En el forward pass las conectaremos"
      ]
    },
    {
      "cell_type": "code",
      "metadata": {
        "id": "HpC9ZkGoMijU",
        "colab_type": "code",
        "colab": {}
      },
      "source": [
        "class FeedForward(nn.Module):\n",
        "\n",
        "    def __init__(self, input_size):\n",
        "      super(FeedForward, self).__init__()\n",
        "      self.linear1 = nn.Linear(in_features= input_size, out_features=55)\n",
        "      self.linear2 = nn.Linear(in_features= 55, out_features=23)\n",
        "      self.output = nn.Linear(in_features= 23, out_features= 1)\n",
        "\n",
        "    def forward(self, input):\n",
        "      result = F.relu(self.linear1(input))\n",
        "      result = F.relu(self.linear2(result))\n",
        "      output = self.output(result)\n",
        "      return output"
      ],
      "execution_count": 14,
      "outputs": []
    },
    {
      "cell_type": "markdown",
      "metadata": {
        "id": "93miVhpTMija",
        "colab_type": "text"
      },
      "source": [
        "## Crear Modelo\n",
        "\n",
        "En esta sección:\n",
        "- Instanciar un modelo\n",
        "- Instanciar la función de loss\n",
        "- Instanciar un optimizador"
      ]
    },
    {
      "cell_type": "code",
      "metadata": {
        "id": "d2uGHr-AMijb",
        "colab_type": "code",
        "colab": {}
      },
      "source": [
        "model = FeedForward(13)\n",
        "criterion = nn.MSELoss()\n",
        "optimizer = torch.optim.Adam(model.parameters(), lr=0.001, betas=(0.9, 0.999), eps=1e-08, weight_decay=0, amsgrad=False)"
      ],
      "execution_count": 15,
      "outputs": []
    },
    {
      "cell_type": "markdown",
      "metadata": {
        "id": "SPZSMcACMijd",
        "colab_type": "text"
      },
      "source": [
        "## Entrenamiento\n",
        "\n",
        "En esta sección:\n",
        "- Poner el modelo en modo train\n",
        "- Escribir un loop de entrenamiento hasta que haga overfitting\n",
        "- Probar técnicas para mejorar el entrenamiento"
      ]
    },
    {
      "cell_type": "code",
      "metadata": {
        "id": "pIAEM9HRaDne",
        "colab_type": "code",
        "colab": {}
      },
      "source": [
        "epoch = 1000\n",
        "history_train_mean = []\n",
        "history_val = []\n",
        "\n",
        "for epoch in range(epoch):\n",
        "    model.train()\n",
        "    epoch_loss = []\n",
        "\n",
        "    for idx, batch in enumerate(train_dataloader):\n",
        "      optimizer.zero_grad()\n",
        "\n",
        "      y_pred = model(batch[0]).squeeze()\n",
        "\n",
        "      loss = criterion(y_pred, batch[1])\n",
        "      epoch_loss.append(loss.item())\n",
        "\n",
        "      loss.backward()\n",
        "      optimizer.step()\n",
        "\n",
        "    history_train_mean.append(np.mean(epoch_loss))\n",
        "\n",
        "    model.eval()\n",
        "\n",
        "    with torch.no_grad():\n",
        "      y_pred = model(x_val).squeeze()\n",
        "      after_val = criterion(y_pred, y_val)\n",
        "      history_val.append(after_val.item())"
      ],
      "execution_count": 20,
      "outputs": []
    },
    {
      "cell_type": "markdown",
      "metadata": {
        "id": "-P6omEVippz_",
        "colab_type": "text"
      },
      "source": [
        "Pre Optim: 6.967527259479869"
      ]
    },
    {
      "cell_type": "code",
      "metadata": {
        "id": "1goNhRAMpi2L",
        "colab_type": "code",
        "colab": {
          "base_uri": "https://localhost:8080/",
          "height": 34
        },
        "outputId": "4c781647-b5df-45cc-f7b0-7ee68b26d5a3"
      },
      "source": [
        "print(history_train_mean[len(history_train_mean) - 1]) # Post Optim"
      ],
      "execution_count": 21,
      "outputs": [
        {
          "output_type": "stream",
          "text": [
            "4.569143067706715\n"
          ],
          "name": "stdout"
        }
      ]
    },
    {
      "cell_type": "markdown",
      "metadata": {
        "id": "Tt_Yltd9Mijf",
        "colab_type": "text"
      },
      "source": [
        "## Plot Loss"
      ]
    },
    {
      "cell_type": "code",
      "metadata": {
        "id": "Bt-5ivJWMijg",
        "colab_type": "code",
        "colab": {
          "base_uri": "https://localhost:8080/",
          "height": 284
        },
        "outputId": "31d1887e-d036-4dfb-8ed6-f4283e2c9a97"
      },
      "source": [
        "plt.plot(history_train_mean, label='train loss mean')\n",
        "plt.plot(history_val, label='val loss mean')\n",
        "plt.legend()"
      ],
      "execution_count": 22,
      "outputs": [
        {
          "output_type": "execute_result",
          "data": {
            "text/plain": [
              "<matplotlib.legend.Legend at 0x7f3244f3b860>"
            ]
          },
          "metadata": {
            "tags": []
          },
          "execution_count": 22
        },
        {
          "output_type": "display_data",
          "data": {
            "image/png": "[encoded data removed]",
            "text/plain": [
              "<Figure size 432x288 with 1 Axes>"
            ]
          },
          "metadata": {
            "tags": [],
            "needs_background": "light"
          }
        }
      ]
    },
    {
      "cell_type": "markdown",
      "metadata": {
        "id": "2OhRKE0TMiji",
        "colab_type": "text"
      },
      "source": [
        "## Evaluar loss en todo Test "
      ]
    },
    {
      "cell_type": "code",
      "metadata": {
        "id": "Iepswf50Miji",
        "colab_type": "code",
        "colab": {
          "base_uri": "https://localhost:8080/",
          "height": 34
        },
        "outputId": "bc82b8d0-53ed-4d06-c877-e0c9c503d924"
      },
      "source": [
        "model.eval()\n",
        "y_pred = model(x_test).squeeze()\n",
        "test_loss = criterion(y_pred, y_test)\n",
        "print(\"Test loss: \", test_loss.item())"
      ],
      "execution_count": 23,
      "outputs": [
        {
          "output_type": "stream",
          "text": [
            "Test loss:  7.659366607666016\n"
          ],
          "name": "stdout"
        }
      ]
    }
  ]
}